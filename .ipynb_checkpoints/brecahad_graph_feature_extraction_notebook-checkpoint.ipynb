{
 "cells": [
  {
   "cell_type": "code",
   "execution_count": 14,
   "metadata": {},
   "outputs": [],
   "source": [
    "import numpy as np\n",
    "import json\n",
    "import networkx as nx               #graphs need to be networkX graphs\n",
    "from karateclub import Graph2Vec\n",
    "from karateclub import SF\n",
    "from karateclub import GL2Vec\n",
    "import pdb"
   ]
  },
  {
   "cell_type": "code",
   "execution_count": 12,
   "metadata": {},
   "outputs": [],
   "source": [
    "#load dataset\n",
    "txt = open('brecahad_nuclei_graph_data.json', 'r').read()\n",
    "data = json.loads(txt)\n",
    "\n",
    "#print(data[1][\"X\"])          #Accessing each field, \"A\", \"X\", and \"y\", for an individual sample"
   ]
  },
  {
   "cell_type": "code",
   "execution_count": 13,
   "metadata": {},
   "outputs": [],
   "source": [
    "#need graph data to be in a list of networkX graphs, and labels to be np array\n",
    "graph_list = []\n",
    "labels = []\n",
    "#print(labels)\n",
    "for i in range(len(data)):\n",
    "    #need to define nx graph structure, then do set_node_attributes for features\n",
    "    g = nx.from_numpy_matrix(np.array(data[i][\"A\"]))\n",
    "    feats = np.array(data[i][\"X\"])        #features for the nodes [Ribbon Taper Separation]\n",
    "    #need to convert to dict of dict, keyed by node id's \n",
    "    feat_dict = {}\n",
    "    for j in range(len(feats)):\n",
    "        feat_dict.update({str(j): {'Ribbon' : feats[j][0], 'Taper' : feats[j][1], 'Separation' : feats[j][2]}})\n",
    "    #pdb.set_trace()\n",
    "    #pdb.disable()\n",
    "    nx.set_node_attributes(g, feat_dict)\n",
    "    graph_list.append(g)\n",
    "    labels.append(data[i][\"y\"])\n",
    "\n",
    "#convert label array to np array\t\t\n",
    "labels = np.array(labels)\n",
    "labels = np.reshape(labels, (labels.shape[0], 1))\n",
    "\n",
    "save_dir = r'C:\\Users\\Brian\\Desktop\\MastersResearch\\brecahad_graph_features'\n"
   ]
  },
  {
   "cell_type": "code",
   "execution_count": null,
   "metadata": {},
   "outputs": [],
   "source": [
    "######################models#######################\n",
    "\n",
    "####################no attributes##################\n",
    "\n",
    "#####################graph2vec#####################\n",
    "\n",
    "dims = [8, 10, 24, 48, 64, 128]\n",
    "\n",
    "for dim in dims:\n",
    "    #dim = 10\n",
    "    model = Graph2Vec(dimensions=dim, seed=0, attributed=False)\n",
    "    model.fit(graph_list)\n",
    "    embeddings = model.get_embedding()        #128 dimensions per nuclei default\n",
    "\n",
    "    output = np.append(embeddings, labels, axis=1)\n",
    "    output = output.tolist()\n",
    "    file_loc = save_dir + '\\\\no_attributes\\\\graph2vec_k' + str(dim) + '.txt'\n",
    "\n",
    "    with open(file_loc, 'w') as filehandle:\n",
    "        for sample in output:\n",
    "            for x in sample:\n",
    "                filehandle.write('%f\\t' % x)\n",
    "            filehandle.write('\\n')\n",
    "    print('Finished dim ' + str(dim))\n",
    "\n",
    "print('done')"
   ]
  },
  {
   "cell_type": "code",
   "execution_count": null,
   "metadata": {},
   "outputs": [],
   "source": [
    "#####################SF #####################\n",
    "#apparently this is a baseline, just the lowest\n",
    "# k eigenvalues of the normalized laplacian\n",
    "dims = [2, 4, 8, 16]\n",
    "\n",
    "for dim in dims:\n",
    "    #dim = 10\n",
    "    model = SF(dimensions=dim)\n",
    "    model.fit(graph_list)\n",
    "    embeddings = model.get_embedding()        #128 dimensions per nuclei default\n",
    "\n",
    "    output = np.append(embeddings, labels, axis=1)\n",
    "    output = output.tolist()\n",
    "    file_loc = save_dir + '\\\\no_attributes\\\\sf_k' + str(dim) + '.txt'\n",
    "\n",
    "    with open(file_loc, 'w') as filehandle:\n",
    "        for sample in output:\n",
    "            for x in sample:\n",
    "                filehandle.write('%f\\t' % x)\n",
    "            filehandle.write('\\n')\n",
    "    print('Finished dim ' + str(dim))\n",
    "\n",
    "print('done')"
   ]
  },
  {
   "cell_type": "code",
   "execution_count": null,
   "metadata": {},
   "outputs": [],
   "source": [
    "#####################GL2Vec #####################\n",
    "dims = [8, 10, 24, 48, 64, 128]\n",
    "\n",
    "for dim in dims:\n",
    "    #dim = 10\n",
    "    model = GL2Vec(dimensions=dim)\n",
    "    model.fit(graph_list)\n",
    "    embeddings = model.get_embedding()        #128 dimensions per nuclei default\n",
    "\n",
    "    output = np.append(embeddings, labels, axis=1)\n",
    "    output = output.tolist()\n",
    "    file_loc = save_dir + '\\\\no_attributes\\\\gl2vec_k' + str(dim) + '.txt'\n",
    "\n",
    "    with open(file_loc, 'w') as filehandle:\n",
    "        for sample in output:\n",
    "            for x in sample:\n",
    "                filehandle.write('%f\\t' % x)\n",
    "            filehandle.write('\\n')\n",
    "    print('Finished dim ' + str(dim))\n",
    "\n",
    "print('done')"
   ]
  }
 ],
 "metadata": {
  "kernelspec": {
   "display_name": "Python 3",
   "language": "python",
   "name": "python3"
  },
  "language_info": {
   "codemirror_mode": {
    "name": "ipython",
    "version": 3
   },
   "file_extension": ".py",
   "mimetype": "text/x-python",
   "name": "python",
   "nbconvert_exporter": "python",
   "pygments_lexer": "ipython3",
   "version": "3.7.4"
  }
 },
 "nbformat": 4,
 "nbformat_minor": 2
}
